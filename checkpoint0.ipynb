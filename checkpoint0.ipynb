{
  "cells": [
    {
      "cell_type": "markdown",
      "metadata": {
        "id": "view-in-github",
        "colab_type": "text"
      },
      "source": [
        "<a href=\"https://colab.research.google.com/github/beckingr/MDST--Tutorial/blob/master/checkpoint0.ipynb\" target=\"_parent\"><img src=\"https://colab.research.google.com/assets/colab-badge.svg\" alt=\"Open In Colab\"/></a>"
      ]
    },
    {
      "cell_type": "markdown",
      "metadata": {
        "id": "0a8IYAJUshu1"
      },
      "source": [
        "# Checkpoint 0"
      ],
      "id": "0a8IYAJUshu1"
    },
    {
      "cell_type": "markdown",
      "metadata": {
        "id": "lQYwZ5mD7TRw"
      },
      "source": [
        "These exercises are a mix of Python and Pandas practice. Most should be no more than a few lines of code!\n",
        "\n",
        "Do not remove comments that start with: \"# @@@\" (Those are question tags)"
      ],
      "id": "lQYwZ5mD7TRw"
    },
    {
      "cell_type": "code",
      "source": [
        "import pandas as pd"
      ],
      "metadata": {
        "id": "9hCpGSeX-aLA"
      },
      "id": "9hCpGSeX-aLA",
      "execution_count": null,
      "outputs": []
    },
    {
      "cell_type": "code",
      "execution_count": null,
      "metadata": {
        "id": "Jo6wuTgkshu1"
      },
      "outputs": [],
      "source": [
        "# @@@ Question 1: Here is a python list, initialize another list called b with the same values as a.\n",
        "a = [1, 2, 3, 4, 5, 6]\n",
        "b = a\n"
      ],
      "id": "Jo6wuTgkshu1"
    },
    {
      "cell_type": "code",
      "execution_count": null,
      "id": "779d96b1",
      "metadata": {
        "colab": {
          "base_uri": "https://localhost:8080/"
        },
        "id": "779d96b1",
        "outputId": "9888776e-827c-4c09-aaa2-18d1763c6081"
      },
      "outputs": [
        {
          "output_type": "execute_result",
          "data": {
            "text/plain": [
              "[4, 5, 6]"
            ]
          },
          "metadata": {},
          "execution_count": 17
        }
      ],
      "source": [
        "# @@@ Question 2: get a list containing the last 3 elements of b\n",
        "# Yes, you can just type out [4, 5, 6] but we really want to see you demonstrate you know how to use list slicing in Python\n",
        "b[-3:]"
      ]
    },
    {
      "cell_type": "code",
      "execution_count": null,
      "id": "b6a54def",
      "metadata": {
        "id": "b6a54def"
      },
      "outputs": [],
      "source": [
        "# @@@ Question 3: Create a list of numbers from 1 to 20\n",
        "one_to_twenty = []\n",
        "for i in range(1, 21):\n",
        "  one_to_twenty.append(i)"
      ]
    },
    {
      "cell_type": "code",
      "execution_count": null,
      "id": "487873ac",
      "metadata": {
        "id": "487873ac"
      },
      "outputs": [],
      "source": [
        "# @@@ Question 4: now get a list with only the even numbers between 1 and 100\n",
        "evens = []\n",
        "for i in range(1,101):\n",
        "  if i % 2 == 0:\n",
        "    evens.append(i)"
      ]
    },
    {
      "cell_type": "code",
      "execution_count": null,
      "id": "3d4bb5dd",
      "metadata": {
        "id": "3d4bb5dd"
      },
      "outputs": [],
      "source": [
        "# @@@ Question 5: write a function that takes two numbers as arguments\n",
        "# and returns the first number divided by the second\n",
        "def divide (i, j):\n",
        "  return i / j"
      ]
    },
    {
      "cell_type": "code",
      "execution_count": null,
      "id": "f55df04e",
      "metadata": {
        "colab": {
          "base_uri": "https://localhost:8080/"
        },
        "id": "f55df04e",
        "outputId": "6cbdf8b7-f28b-40ab-bed2-81f2864e28d7"
      },
      "outputs": [
        {
          "output_type": "stream",
          "name": "stdout",
          "text": [
            "1\n",
            "2\n",
            "fizz\n",
            "4\n",
            "buzz\n",
            "fizz\n",
            "7\n",
            "8\n",
            "fizz\n",
            "buzz\n",
            "11\n",
            "fizz\n",
            "13\n",
            "14\n",
            "fizzbuzz\n",
            "16\n",
            "17\n",
            "fizz\n",
            "19\n",
            "buzz\n",
            "fizz\n",
            "22\n",
            "23\n",
            "fizz\n",
            "buzz\n",
            "26\n",
            "fizz\n",
            "28\n",
            "29\n",
            "fizzbuzz\n"
          ]
        }
      ],
      "source": [
        "# @@@ Queston 6: fizzbuzz\n",
        "# you will need to use both iteration and control flow\n",
        "# go through all numbers from 1 to 30 in order\n",
        "# if the number is a multiple of 3, print fizz\n",
        "# if the number is a multiple of 5, print buzz\n",
        "# if the number is a multiple of 3 and 5, print fizzbuzz and NOTHING ELSE\n",
        "# if the number is neither a multiple of 3 nor a multiple of 5, print the number\n",
        "for i in range(1, 31):\n",
        "  if (i % 3 == 0) and (i % 5 == 0):\n",
        "    print(\"fizzbuzz\")\n",
        "  elif i % 3 == 0:\n",
        "    print(\"fizz\")\n",
        "  elif i % 5 == 0:\n",
        "    print(\"buzz\")\n",
        "  else:\n",
        "    print(i)"
      ]
    },
    {
      "cell_type": "code",
      "execution_count": null,
      "id": "78aace0b",
      "metadata": {
        "id": "78aace0b"
      },
      "outputs": [],
      "source": [
        "# @@@ Question 7: create a dictionary that reflects the following menu pricing (taken from Ahmo's)\n",
        "# Gyro: $9\n",
        "# Burger: $9\n",
        "# Greek Salad: $8\n",
        "# Philly Steak: $10\n",
        "menu_pricing = {\n",
        "    \"Gyro\": 9,\n",
        "    \"Burger\": 9,\n",
        "    \"Greek Salad\": 8,\n",
        "    \"Philly Steak\": 10\n",
        "}"
      ]
    },
    {
      "cell_type": "code",
      "execution_count": 27,
      "metadata": {
        "id": "WzCQ5HOJshvA"
      },
      "outputs": [],
      "source": [
        "# @@@ Question 8: load in the \"starbucks.csv\" dataset\n",
        "# refer to how we read the cereal.csv dataset in the tutorial\n",
        "starbies = pd.read_csv(\"starbucks.csv\")"
      ],
      "id": "WzCQ5HOJshvA"
    },
    {
      "cell_type": "code",
      "execution_count": 28,
      "id": "ac0f0c12",
      "metadata": {
        "id": "ac0f0c12"
      },
      "outputs": [],
      "source": [
        "# @@@ Question 9: select all rows with more than and including 400 calories\n",
        "starbies_more_than_400 = starbies[starbies[\"calories\"] >= 400]"
      ]
    },
    {
      "cell_type": "code",
      "execution_count": 29,
      "id": "ee8f8241",
      "metadata": {
        "id": "ee8f8241"
      },
      "outputs": [],
      "source": [
        "# @@@ Question 10: select all rows whose vitamin c content is higher than the iron content\n",
        "starbies_more_vitamin_c = starbies[starbies[\"vitamin c\"] > starbies[\"iron\"]]"
      ]
    },
    {
      "cell_type": "code",
      "execution_count": 30,
      "id": "d4de48bb",
      "metadata": {
        "id": "d4de48bb"
      },
      "outputs": [],
      "source": [
        "# @@@ Question 11: create a new column containing the caffeine per calories of each drink\n",
        "starbies[\"caffeine_per_calories\"] = starbies[\"caffeine\"] / starbies[\"calories\"]"
      ]
    },
    {
      "cell_type": "code",
      "execution_count": 31,
      "metadata": {
        "id": "rIoxaSxHshvB",
        "colab": {
          "base_uri": "https://localhost:8080/"
        },
        "outputId": "dd1d23bd-0738-4a6a-b893-6a1ac0d69b44"
      },
      "outputs": [
        {
          "output_type": "execute_result",
          "data": {
            "text/plain": [
              "193.87190082644628"
            ]
          },
          "metadata": {},
          "execution_count": 31
        }
      ],
      "source": [
        "# @@@ Question 12: what is the average calorie across all items?\n",
        "starbies[\"calories\"].mean()"
      ],
      "id": "rIoxaSxHshvB"
    },
    {
      "cell_type": "code",
      "execution_count": 32,
      "metadata": {
        "id": "ABX7i49FshvD",
        "colab": {
          "base_uri": "https://localhost:8080/"
        },
        "outputId": "fcecfb56-e275-4d46-d852-f0a9c9db0597"
      },
      "outputs": [
        {
          "output_type": "execute_result",
          "data": {
            "text/plain": [
              "9"
            ]
          },
          "metadata": {},
          "execution_count": 32
        }
      ],
      "source": [
        "# @@@ Question 13: how many different categories of beverages are there?\n",
        "starbies[\"beverage_category\"].nunique()"
      ],
      "id": "ABX7i49FshvD"
    },
    {
      "cell_type": "code",
      "execution_count": 33,
      "metadata": {
        "id": "P9QatZAzshvE",
        "colab": {
          "base_uri": "https://localhost:8080/"
        },
        "outputId": "51d5e84b-0ad5-40d3-f09d-fecccc172b63"
      },
      "outputs": [
        {
          "output_type": "stream",
          "name": "stdout",
          "text": [
            "coffee 4.25\n",
            "classic espresso drinks 140.17241379310346\n",
            "signature espresso drinks 250.0\n",
            "tazo tea drinks 177.30769230769232\n",
            "shaken iced beverages 114.44444444444444\n",
            "smoothies 282.22222222222223\n",
            "frappuccino blended coffee 276.94444444444446\n",
            "frappuccino light blended coffee 162.5\n",
            "frappuccino blended crme 233.07692307692307\n"
          ]
        }
      ],
      "source": [
        "# @@@ Question 14: what is the average # calories for each beverage category?\n",
        "for category in starbies[\"beverage_category\"].unique():\n",
        "  print(category, starbies[starbies[\"beverage_category\"] == category][\"calories\"].mean())"
      ],
      "id": "P9QatZAzshvE"
    }
  ],
  "metadata": {
    "kernelspec": {
      "display_name": "Python 3.9.0 64-bit",
      "language": "python",
      "name": "python3"
    },
    "language_info": {
      "codemirror_mode": {
        "name": "ipython",
        "version": 3
      },
      "file_extension": ".py",
      "mimetype": "text/x-python",
      "name": "python",
      "nbconvert_exporter": "python",
      "pygments_lexer": "ipython3",
      "version": "3.9.0"
    },
    "vscode": {
      "interpreter": {
        "hash": "6cf8df3ff69f85f626faf55c10df6fe2cb9d1236b4dc73844ee4dc01369c2c99"
      }
    },
    "colab": {
      "provenance": [],
      "include_colab_link": true
    }
  },
  "nbformat": 4,
  "nbformat_minor": 5
}